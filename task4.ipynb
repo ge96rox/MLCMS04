{
 "cells": [
  {
   "cell_type": "code",
   "execution_count": 27,
   "id": "palestinian-guinea",
   "metadata": {},
   "outputs": [],
   "source": [
    "import matplotlib.pyplot as plt\n",
    "import numpy as np\n",
    "import torch\n",
    "import torch.nn as nn\n",
    "import torch.nn.functional as F\n",
    "import torchvision\n",
    "from src.vae import *\n",
    "# from torchvision import datasets, transforms"
   ]
  },
  {
   "cell_type": "code",
   "execution_count": 4,
   "id": "voluntary-blues",
   "metadata": {},
   "outputs": [
    {
     "name": "stdout",
     "output_type": "stream",
     "text": [
      "Downloading http://yann.lecun.com/exdb/mnist/train-images-idx3-ubyte.gz to dataset\\MNIST\\raw\\train-images-idx3-ubyte.gz\n"
     ]
    },
    {
     "data": {
      "application/vnd.jupyter.widget-view+json": {
       "model_id": "498a8846c3aa4dc6acc3bb65f82b857d",
       "version_major": 2,
       "version_minor": 0
      },
      "text/plain": [
       "0it [00:00, ?it/s]"
      ]
     },
     "metadata": {},
     "output_type": "display_data"
    },
    {
     "name": "stdout",
     "output_type": "stream",
     "text": [
      "Extracting dataset\\MNIST\\raw\\train-images-idx3-ubyte.gz\n",
      "Downloading http://yann.lecun.com/exdb/mnist/train-labels-idx1-ubyte.gz to dataset\\MNIST\\raw\\train-labels-idx1-ubyte.gz\n"
     ]
    },
    {
     "data": {
      "application/vnd.jupyter.widget-view+json": {
       "model_id": "2a285507150843159933a11c8edd2f7e",
       "version_major": 2,
       "version_minor": 0
      },
      "text/plain": [
       "0it [00:00, ?it/s]"
      ]
     },
     "metadata": {},
     "output_type": "display_data"
    },
    {
     "name": "stdout",
     "output_type": "stream",
     "text": [
      "Extracting dataset\\MNIST\\raw\\train-labels-idx1-ubyte.gz\n",
      "Downloading http://yann.lecun.com/exdb/mnist/t10k-images-idx3-ubyte.gz to dataset\\MNIST\\raw\\t10k-images-idx3-ubyte.gz\n"
     ]
    },
    {
     "data": {
      "application/vnd.jupyter.widget-view+json": {
       "model_id": "e9ca5893c45f4dc788a1c47f3b5deecf",
       "version_major": 2,
       "version_minor": 0
      },
      "text/plain": [
       "0it [00:00, ?it/s]"
      ]
     },
     "metadata": {},
     "output_type": "display_data"
    },
    {
     "name": "stdout",
     "output_type": "stream",
     "text": [
      "Extracting dataset\\MNIST\\raw\\t10k-images-idx3-ubyte.gz\n",
      "Downloading http://yann.lecun.com/exdb/mnist/t10k-labels-idx1-ubyte.gz to dataset\\MNIST\\raw\\t10k-labels-idx1-ubyte.gz\n"
     ]
    },
    {
     "data": {
      "application/vnd.jupyter.widget-view+json": {
       "model_id": "50051e8de6c84f42993c0f5626496ca8",
       "version_major": 2,
       "version_minor": 0
      },
      "text/plain": [
       "0it [00:00, ?it/s]"
      ]
     },
     "metadata": {},
     "output_type": "display_data"
    },
    {
     "name": "stdout",
     "output_type": "stream",
     "text": [
      "Extracting dataset\\MNIST\\raw\\t10k-labels-idx1-ubyte.gz\n",
      "Processing...\n",
      "Done!\n"
     ]
    },
    {
     "name": "stderr",
     "output_type": "stream",
     "text": [
      "C:\\Users\\yinna\\anaconda3\\envs\\MyML\\lib\\site-packages\\torchvision\\datasets\\mnist.py:335: UserWarning: The given NumPy array is not writeable, and PyTorch does not support non-writeable tensors. This means you can write to the underlying (supposedly non-writeable) NumPy array using the tensor. You may want to copy the array to protect its data or make it writeable before converting it to a tensor. This type of warning will be suppressed for the rest of this program. (Triggered internally at  ..\\torch\\csrc\\utils\\tensor_numpy.cpp:143.)\n",
      "  return torch.from_numpy(parsed).view(length, num_rows, num_cols)\n"
     ]
    }
   ],
   "source": [
    "batch_size = 128\n",
    "train_loader = torch.utils.data.DataLoader(\n",
    "    torchvision.datasets.MNIST('dataset', train=True, download=True,\n",
    "                                transform=torchvision.transforms.ToTensor(),\n",
    "                                ), batch_size=batch_size, shuffle=True)"
   ]
  },
  {
   "cell_type": "code",
   "execution_count": 5,
   "id": "jewish-primary",
   "metadata": {},
   "outputs": [],
   "source": [
    "test_loader = torch.utils.data.DataLoader(\n",
    "    torchvision.datasets.MNIST('dataset', train=False, download=True,\n",
    "                                transform=torchvision.transforms.ToTensor(),\n",
    "                                ), batch_size=batch_size, shuffle=True)"
   ]
  },
  {
   "cell_type": "code",
   "execution_count": 23,
   "id": "adjacent-cooling",
   "metadata": {},
   "outputs": [],
   "source": [
    "input_size = 28*28\n",
    "output_size = 28*28"
   ]
  },
  {
   "cell_type": "code",
   "execution_count": 29,
   "id": "rental-carnival",
   "metadata": {},
   "outputs": [
    {
     "name": "stdout",
     "output_type": "stream",
     "text": [
      "Epoch 0\n",
      "loss = 11062.85546875\n",
      "loss = 3927.214599609375\n",
      "loss = 3586.24072265625\n",
      "loss = 3058.767333984375\n",
      "loss = 2748.218505859375\n",
      "Epoch 1\n",
      "loss = 2567.37109375\n",
      "loss = 2436.017578125\n",
      "loss = 2524.90185546875\n",
      "loss = 2373.248291015625\n",
      "loss = 2295.703125\n",
      "Epoch 2\n",
      "loss = 2265.16796875\n",
      "loss = 2272.796142578125\n",
      "loss = 2259.9013671875\n",
      "loss = 2401.3798828125\n",
      "loss = 2133.3974609375\n",
      "Epoch 3\n",
      "loss = 2128.24072265625\n",
      "loss = 2117.291259765625\n",
      "loss = 1981.0811767578125\n",
      "loss = 2079.476806640625\n",
      "loss = 2024.7911376953125\n",
      "Epoch 4\n",
      "loss = 2037.1148681640625\n",
      "loss = 2052.946044921875\n",
      "loss = 2230.07568359375\n",
      "loss = 2050.951171875\n",
      "loss = 1831.1214599609375\n"
     ]
    }
   ],
   "source": [
    "max_epochs = 5\n",
    "show_step = 100\n",
    "vae = VAE(256, 256, 256, input_size, output_size)\n",
    "opt = torch.optim.Adam(vae.parameters(), lr=1e-3)\n",
    "for epoch in range(max_epochs):\n",
    "    print(\"Epoch {0}\".format(epoch))\n",
    "    for i, batch in enumerate(train_loader):\n",
    "        x, y = batch\n",
    "        x = x.view(x.shape[0], -1)\n",
    "        opt.zero_grad()\n",
    "        loss = -vae.forward_elbo(x).mean(-1)\n",
    "        loss.backward()\n",
    "        opt.step()\n",
    "        if i % show_step == 0:\n",
    "            print(\"loss = {0}\".format(loss.item()))\n",
    "        "
   ]
  },
  {
   "cell_type": "code",
   "execution_count": null,
   "id": "attached-somerset",
   "metadata": {},
   "outputs": [],
   "source": []
  }
 ],
 "metadata": {
  "kernelspec": {
   "display_name": "Python 3",
   "language": "python",
   "name": "python3"
  },
  "language_info": {
   "codemirror_mode": {
    "name": "ipython",
    "version": 3
   },
   "file_extension": ".py",
   "mimetype": "text/x-python",
   "name": "python",
   "nbconvert_exporter": "python",
   "pygments_lexer": "ipython3",
   "version": "3.9.2"
  }
 },
 "nbformat": 4,
 "nbformat_minor": 5
}
