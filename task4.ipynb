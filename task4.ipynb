{
 "cells": [
  {
   "cell_type": "code",
   "execution_count": 1,
   "id": "palestinian-guinea",
   "metadata": {},
   "outputs": [],
   "source": [
    "import matplotlib.pyplot as plt\n",
    "import numpy as np\n",
    "import torch\n",
    "import torch.nn as nn\n",
    "import torch.nn.functional as F\n",
    "import torchvision\n",
    "from src.vae import *"
   ]
  },
  {
   "cell_type": "code",
   "execution_count": 2,
   "id": "voluntary-blues",
   "metadata": {},
   "outputs": [],
   "source": [
    "batch_size = 128\n",
    "train_loader = torch.utils.data.DataLoader(\n",
    "    torchvision.datasets.MNIST('dataset', train=True, download=True,\n",
    "                                transform=torchvision.transforms.ToTensor(),\n",
    "                                ), batch_size=batch_size, shuffle=True)"
   ]
  },
  {
   "cell_type": "code",
   "execution_count": 3,
   "id": "jewish-primary",
   "metadata": {},
   "outputs": [],
   "source": [
    "test_loader = torch.utils.data.DataLoader(\n",
    "    torchvision.datasets.MNIST('dataset', train=False, download=True,\n",
    "                                transform=torchvision.transforms.ToTensor(),\n",
    "                                ), batch_size=batch_size, shuffle=True)"
   ]
  },
  {
   "cell_type": "code",
   "execution_count": 23,
   "id": "adjacent-cooling",
   "metadata": {},
   "outputs": [],
   "source": [
    "input_size = 28*28\n",
    "output_size = 28*28"
   ]
  },
  {
   "cell_type": "code",
   "execution_count": 29,
   "id": "rental-carnival",
   "metadata": {},
   "outputs": [
    {
     "name": "stdout",
     "output_type": "stream",
     "text": [
      "Epoch 0\n",
      "loss = 11062.85546875\n",
      "loss = 3927.214599609375\n",
      "loss = 3586.24072265625\n",
      "loss = 3058.767333984375\n",
      "loss = 2748.218505859375\n",
      "Epoch 1\n",
      "loss = 2567.37109375\n",
      "loss = 2436.017578125\n",
      "loss = 2524.90185546875\n",
      "loss = 2373.248291015625\n",
      "loss = 2295.703125\n",
      "Epoch 2\n",
      "loss = 2265.16796875\n",
      "loss = 2272.796142578125\n",
      "loss = 2259.9013671875\n",
      "loss = 2401.3798828125\n",
      "loss = 2133.3974609375\n",
      "Epoch 3\n",
      "loss = 2128.24072265625\n",
      "loss = 2117.291259765625\n",
      "loss = 1981.0811767578125\n",
      "loss = 2079.476806640625\n",
      "loss = 2024.7911376953125\n",
      "Epoch 4\n",
      "loss = 2037.1148681640625\n",
      "loss = 2052.946044921875\n",
      "loss = 2230.07568359375\n",
      "loss = 2050.951171875\n",
      "loss = 1831.1214599609375\n"
     ]
    }
   ],
   "source": [
    "max_epochs = 5\n",
    "show_step = 100\n",
    "vae = VAE(256, 256, 256, input_size, output_size)\n",
    "opt = torch.optim.Adam(vae.parameters(), lr=1e-3)\n",
    "for epoch in range(max_epochs):\n",
    "    print(\"Epoch {0}\".format(epoch))\n",
    "    for i, batch in enumerate(train_loader):\n",
    "        x, y = batch\n",
    "        x = x.view(x.shape[0], -1)\n",
    "        opt.zero_grad()\n",
    "        loss = -vae.forward_elbo(x).mean(-1)\n",
    "        loss.backward()\n",
    "        opt.step()\n",
    "        if i % show_step == 0:\n",
    "            print(\"loss = {0}\".format(loss.item()))\n",
    "        "
   ]
  },
  {
   "cell_type": "code",
   "execution_count": 5,
   "id": "attached-somerset",
   "metadata": {},
   "outputs": [],
   "source": [
    "def show_mnist(nr_row, nr_col, data_loader):\n",
    "    fig = plt.figure(figsize=(5,5))\n",
    "    nr_total = nr_row * nr_col\n",
    "    for i in range(nr_total):\n",
    "        idx = np.random.randint(0, len(data_loader))\n",
    "        ax = fig.add_subplot(nr_row, nr_col, i+1)\n",
    "        image = data_loader[idx][0].view(28, 28).numpy()\n",
    "        ax.imshow(image)\n",
    "    plt.show()"
   ]
  },
  {
   "cell_type": "code",
   "execution_count": null,
   "id": "hearing-equipment",
   "metadata": {},
   "outputs": [],
   "source": [
    "show_mnist(2,2,train_loader)"
   ]
  },
  {
   "cell_type": "code",
   "execution_count": null,
   "id": "surgical-yesterday",
   "metadata": {},
   "outputs": [],
   "source": []
  }
 ],
 "metadata": {
  "kernelspec": {
   "display_name": "Python 3",
   "language": "python",
   "name": "python3"
  },
  "language_info": {
   "codemirror_mode": {
    "name": "ipython",
    "version": 3
   },
   "file_extension": ".py",
   "mimetype": "text/x-python",
   "name": "python",
   "nbconvert_exporter": "python",
   "pygments_lexer": "ipython3",
   "version": "3.9.2"
  }
 },
 "nbformat": 4,
 "nbformat_minor": 5
}
